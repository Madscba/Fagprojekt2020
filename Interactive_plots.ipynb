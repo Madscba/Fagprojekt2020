{
 "cells": [
  {
   "cell_type": "code",
   "execution_count": 9,
   "metadata": {},
   "outputs": [],
   "source": [
    "import numpy as np\n",
    "import matplotlib.pyplot as plt\n",
    "import plotly\n",
    "from Preprossering.PreprosseringPipeline import preprossingPipeline\n",
    "import pickle\n",
    "from Visualization.PCA_TSNE_plot import plot_pca"
   ]
  },
  {
   "cell_type": "markdown",
   "metadata": {},
   "source": [
    "Inteactive ploting function  \n",
    "Responseble Andreas "
   ]
  },
  {
   "cell_type": "code",
   "execution_count": 7,
   "metadata": {},
   "outputs": [
    {
     "output_type": "stream",
     "name": "stdout",
     "text": "\npaths found for loading\n"
    }
   ],
   "source": [
    "path_pca=r'C:\\Users\\Andreas\\Desktop\\KID\\Fagproject\\PCA_TSNE/PCA.sav'\n",
    "path_pca_features=r'C:\\Users\\Andreas\\Desktop\\KID\\Fagproject\\PCA_TSNE/pca_features.npy'\n",
    "path_tsne=r'C:\\Users\\Andreas\\Desktop\\KID\\Fagproject\\PCA_TSNE/TSNE.sav'\n",
    "path_tsne_features=r'C:\\Users\\Andreas\\Desktop\\KID\\Fagproject\\PCA_TSNE/tsne_features.npy'\n",
    "get_data=preprossingPipeline()"
   ]
  },
  {
   "cell_type": "code",
   "execution_count": 10,
   "metadata": {},
   "outputs": [],
   "source": [
    "pca = pickle.load(open(path_pca, 'rb'))\n",
    "tsne = pickle.load(open(path_tsne, 'rb'))\n",
    "tsne_features=np.load(path_tsne_features)\n",
    "pca_features=np.load(path_pca_features)"
   ]
  },
  {
   "cell_type": "code",
   "execution_count": 20,
   "metadata": {},
   "outputs": [
    {
     "output_type": "error",
     "ename": "UnboundLocalError",
     "evalue": "local variable 'spectograms' referenced before assignment",
     "traceback": [
      "\u001b[1;31m---------------------------------------------------------------------------\u001b[0m",
      "\u001b[1;31mUnboundLocalError\u001b[0m                         Traceback (most recent call last)",
      "\u001b[1;32m<ipython-input-20-0cdba6cf9bd0>\u001b[0m in \u001b[0;36m<module>\u001b[1;34m\u001b[0m\n\u001b[1;32m----> 1\u001b[1;33m \u001b[0mget_data\u001b[0m\u001b[1;33m.\u001b[0m\u001b[0mmake_label\u001b[0m\u001b[1;33m(\u001b[0m\u001b[0mpath\u001b[0m\u001b[1;33m=\u001b[0m\u001b[1;34mr'C:\\Users\\Andreas\\Desktop\\KID\\Fagproject\\PCA_TSNE/pca_features.npy'\u001b[0m\u001b[1;33m)\u001b[0m\u001b[1;33m\u001b[0m\u001b[0m\n\u001b[0m",
      "\u001b[1;32mc:\\Users\\Andreas\\Desktop\\KID\\Fagproject\\Fagprojekt2020\\Preprossering\\PreprosseringPipeline.py\u001b[0m in \u001b[0;36mmake_label\u001b[1;34m(self, make_spectograms, make_from_names, quality, is_usable, max_files, path, seed)\u001b[0m\n\u001b[0;32m    195\u001b[0m                     \u001b[0mi\u001b[0m \u001b[1;33m+=\u001b[0m \u001b[1;36m1\u001b[0m\u001b[1;33m\u001b[0m\u001b[0m\n\u001b[0;32m    196\u001b[0m \u001b[1;33m\u001b[0m\u001b[0m\n\u001b[1;32m--> 197\u001b[1;33m         \u001b[1;32mreturn\u001b[0m \u001b[0mspectograms\u001b[0m\u001b[1;33m,\u001b[0m \u001b[0mlabels\u001b[0m\u001b[1;33m,\u001b[0m \u001b[0mfilenames\u001b[0m\u001b[1;33m\u001b[0m\u001b[0m\n\u001b[0m\u001b[0;32m    198\u001b[0m \u001b[1;33m\u001b[0m\u001b[0m\n\u001b[0;32m    199\u001b[0m \u001b[1;33m\u001b[0m\u001b[0m\n",
      "\u001b[1;31mUnboundLocalError\u001b[0m: local variable 'spectograms' referenced before assignment"
     ]
    }
   ],
   "source": []
  },
  {
   "cell_type": "code",
   "execution_count": 24,
   "metadata": {},
   "outputs": [
    {
     "output_type": "error",
     "ename": "UnboundLocalError",
     "evalue": "local variable 'spectograms' referenced before assignment",
     "traceback": [
      "\u001b[1;31m---------------------------------------------------------------------------\u001b[0m",
      "\u001b[1;31mUnboundLocalError\u001b[0m                         Traceback (most recent call last)",
      "\u001b[1;32m<ipython-input-24-6bad71bb854c>\u001b[0m in \u001b[0;36m<module>\u001b[1;34m\u001b[0m\n\u001b[0;32m      1\u001b[0m \u001b[0mpca_path\u001b[0m\u001b[1;33m=\u001b[0m\u001b[1;34mr\"C:\\Users\\Andreas\\Desktop\\KID\\Fagproject\\PCA_TSNE_01\"\u001b[0m\u001b[1;33m\u001b[0m\u001b[0m\n\u001b[1;32m----> 2\u001b[1;33m \u001b[0mget_data\u001b[0m\u001b[1;33m.\u001b[0m\u001b[0mmake_label\u001b[0m\u001b[1;33m(\u001b[0m\u001b[0mpca_path\u001b[0m\u001b[1;33m)\u001b[0m\u001b[1;33m\u001b[0m\u001b[0m\n\u001b[0m",
      "\u001b[1;32mc:\\Users\\Andreas\\Desktop\\KID\\Fagproject\\Fagprojekt2020\\Preprossering\\PreprosseringPipeline.py\u001b[0m in \u001b[0;36mmake_label\u001b[1;34m(self, make_spectograms, make_from_names, quality, is_usable, max_files, path, seed)\u001b[0m\n\u001b[0;32m    195\u001b[0m                     \u001b[0mi\u001b[0m \u001b[1;33m+=\u001b[0m \u001b[1;36m1\u001b[0m\u001b[1;33m\u001b[0m\u001b[0m\n\u001b[0;32m    196\u001b[0m \u001b[1;33m\u001b[0m\u001b[0m\n\u001b[1;32m--> 197\u001b[1;33m         \u001b[1;32mreturn\u001b[0m \u001b[0mspectograms\u001b[0m\u001b[1;33m,\u001b[0m \u001b[0mlabels\u001b[0m\u001b[1;33m,\u001b[0m \u001b[0mfilenames\u001b[0m\u001b[1;33m\u001b[0m\u001b[0m\n\u001b[0m\u001b[0;32m    198\u001b[0m \u001b[1;33m\u001b[0m\u001b[0m\n\u001b[0;32m    199\u001b[0m \u001b[1;33m\u001b[0m\u001b[0m\n",
      "\u001b[1;31mUnboundLocalError\u001b[0m: local variable 'spectograms' referenced before assignment"
     ]
    }
   ],
   "source": [
    "pca_path=r\"C:\\Users\\Andreas\\Desktop\\KID\\Fagproject\\PCA_TSNE_01\"\n",
    "get_data.make_label(path=pca_path)"
   ]
  }
 ],
 "metadata": {
  "language_info": {
   "codemirror_mode": {
    "name": "ipython",
    "version": 3
   },
   "file_extension": ".py",
   "mimetype": "text/x-python",
   "name": "python",
   "nbconvert_exporter": "python",
   "pygments_lexer": "ipython3",
   "version": "3.6.5-final"
  },
  "orig_nbformat": 2,
  "kernelspec": {
   "name": "python36564bitandreasvirtualenv70822917b8434d7e879ebfa7b2953705",
   "display_name": "Python 3.6.5 64-bit ('Andreas': virtualenv)"
  }
 },
 "nbformat": 4,
 "nbformat_minor": 2
}