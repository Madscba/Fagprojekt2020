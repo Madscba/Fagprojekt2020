{
 "cells": [
  {
   "cell_type": "code",
   "execution_count": 5,
   "metadata": {},
   "outputs": [],
   "source": [
    "import numpy as np\n",
    "import matplotlib.pyplot as plt\n",
    "import plotly\n",
    "from Preprossering.PreprosseringPipeline import preprossingPipeline"
   ]
  },
  {
   "cell_type": "markdown",
   "metadata": {},
   "source": [
    "Inteactive ploting function  \n",
    "Responseble Andreas "
   ]
  },
  {
   "cell_type": "code",
   "execution_count": 6,
   "metadata": {},
   "outputs": [
    {
     "output_type": "stream",
     "name": "stdout",
     "text": "c:\\Users\\Andreas\\Desktop\\KID\\Fagproject\\Fagprojekt2020\n\npaths found for loading\n"
    }
   ],
   "source": [
    "path=r\"C:\\Users\\Andreas\\Desktop\\KID\\Fagproject\\PCA_TSNE\"\n",
    "print(os.getcwd())\n",
    "get_data=preprossingPipeline()"
   ]
  },
  {
   "cell_type": "code",
   "execution_count": 8,
   "metadata": {},
   "outputs": [
    {
     "output_type": "error",
     "ename": "TypeError",
     "evalue": "make_label() missing 1 required positional argument: 'self'",
     "traceback": [
      "\u001b[1;31m---------------------------------------------------------------------------\u001b[0m",
      "\u001b[1;31mTypeError\u001b[0m                                 Traceback (most recent call last)",
      "\u001b[1;32m<ipython-input-8-9bdaea511b1d>\u001b[0m in \u001b[0;36m<module>\u001b[1;34m\u001b[0m\n\u001b[1;32m----> 1\u001b[1;33m \u001b[0mfeature_vectors_1\u001b[0m\u001b[1;33m,\u001b[0m\u001b[0mlabels_1\u001b[0m\u001b[1;33m,\u001b[0m\u001b[0mfilenames\u001b[0m\u001b[1;33m=\u001b[0m \u001b[0mmake_label\u001b[0m\u001b[1;33m(\u001b[0m\u001b[0mmax_files\u001b[0m\u001b[1;33m=\u001b[0m\u001b[1;36m5\u001b[0m\u001b[1;33m,\u001b[0m\u001b[0mquality\u001b[0m\u001b[1;33m=\u001b[0m\u001b[1;33m[\u001b[0m\u001b[1;36m1\u001b[0m\u001b[1;33m]\u001b[0m\u001b[1;33m,\u001b[0m\u001b[0mis_usable\u001b[0m\u001b[1;33m=\u001b[0m\u001b[1;32mNone\u001b[0m\u001b[1;33m,\u001b[0m\u001b[0mmake_spectograms\u001b[0m\u001b[1;33m=\u001b[0m\u001b[1;32mTrue\u001b[0m\u001b[1;33m,\u001b[0m\u001b[0mpath\u001b[0m \u001b[1;33m=\u001b[0m \u001b[0mpath\u001b[0m\u001b[1;33m)\u001b[0m\u001b[1;33m\u001b[0m\u001b[0m\n\u001b[0m\u001b[0;32m      2\u001b[0m \u001b[0mfeature_vectors_9_10\u001b[0m\u001b[1;33m,\u001b[0m\u001b[0mlabels_9_10\u001b[0m\u001b[1;33m,\u001b[0m \u001b[0mfilenames1\u001b[0m\u001b[1;33m=\u001b[0m \u001b[0mmake_label\u001b[0m\u001b[1;33m(\u001b[0m\u001b[0mmax_files\u001b[0m\u001b[1;33m=\u001b[0m\u001b[1;36m5\u001b[0m\u001b[1;33m,\u001b[0m\u001b[0mquality\u001b[0m\u001b[1;33m=\u001b[0m\u001b[1;33m[\u001b[0m\u001b[1;36m9\u001b[0m\u001b[1;33m,\u001b[0m\u001b[1;36m10\u001b[0m\u001b[1;33m]\u001b[0m\u001b[1;33m,\u001b[0m\u001b[0mis_usable\u001b[0m\u001b[1;33m=\u001b[0m\u001b[1;32mNone\u001b[0m\u001b[1;33m,\u001b[0m\u001b[0mmake_spectograms\u001b[0m\u001b[1;33m=\u001b[0m\u001b[1;32mTrue\u001b[0m\u001b[1;33m,\u001b[0m\u001b[0mpath\u001b[0m \u001b[1;33m=\u001b[0m \u001b[0mpath\u001b[0m\u001b[1;33m)\u001b[0m\u001b[1;33m\u001b[0m\u001b[0m\n\u001b[0;32m      3\u001b[0m \u001b[0mfeature_vectors\u001b[0m\u001b[1;33m=\u001b[0m\u001b[0mnp\u001b[0m\u001b[1;33m.\u001b[0m\u001b[0mvstack\u001b[0m\u001b[1;33m(\u001b[0m\u001b[1;33m(\u001b[0m\u001b[0mfeature_vectors_1\u001b[0m\u001b[1;33m,\u001b[0m\u001b[0mfeature_vectors_9_10\u001b[0m\u001b[1;33m)\u001b[0m\u001b[1;33m)\u001b[0m\u001b[1;33m\u001b[0m\u001b[0m\n\u001b[0;32m      4\u001b[0m \u001b[0mfilenames\u001b[0m\u001b[1;33m=\u001b[0m\u001b[0mfilenames\u001b[0m\u001b[1;33m+\u001b[0m\u001b[0mfilenames1\u001b[0m\u001b[1;33m\u001b[0m\u001b[0m\n\u001b[0;32m      5\u001b[0m \u001b[0mlabels\u001b[0m\u001b[1;33m=\u001b[0m\u001b[0mlabels_1\u001b[0m\u001b[1;33m+\u001b[0m\u001b[0mlabels_9_10\u001b[0m\u001b[1;33m\u001b[0m\u001b[0m\n",
      "\u001b[1;31mTypeError\u001b[0m: make_label() missing 1 required positional argument: 'self'"
     ]
    }
   ],
   "source": [
    "feature_vectors_1,labels_1,filenames= get_data.make_label(max_files=5,quality=[1],is_usable=None,make_spectograms=True,path = path)\n",
    "feature_vectors_9_10,labels_9_10, filenames1= get_data.make_label(max_files=5,quality=[9,10],is_usable=None,make_spectograms=True,path = path)\n",
    "feature_vectors=np.vstack((feature_vectors_1,feature_vectors_9_10))\n",
    "filenames=filenames+filenames1\n",
    "labels=labels_1+labels_9_10\n",
    "scaled_feature_vectors=scale_data(feature_vectors)\n",
    "pca_vectors=pca.transform(scaled_feature_vectors)\n",
    "plot_pca(pca_vectors,labels,np.unique(labels))"
   ]
  },
  {
   "cell_type": "code",
   "execution_count": null,
   "metadata": {},
   "outputs": [],
   "source": []
  }
 ],
 "metadata": {
  "language_info": {
   "codemirror_mode": {
    "name": "ipython",
    "version": 3
   },
   "file_extension": ".py",
   "mimetype": "text/x-python",
   "name": "python",
   "nbconvert_exporter": "python",
   "pygments_lexer": "ipython3",
   "version": "3.6.5-final"
  },
  "orig_nbformat": 2,
  "kernelspec": {
   "name": "python36564bitandreasvirtualenv70822917b8434d7e879ebfa7b2953705",
   "display_name": "Python 3.6.5 64-bit ('Andreas': virtualenv)"
  }
 },
 "nbformat": 4,
 "nbformat_minor": 2
}