{
 "nbformat": 4,
 "nbformat_minor": 2,
 "metadata": {
  "language_info": {
   "name": "python",
   "codemirror_mode": {
    "name": "ipython",
    "version": 3
   },
   "version": "3.6.5-final"
  },
  "orig_nbformat": 2,
  "file_extension": ".py",
  "mimetype": "text/x-python",
  "name": "python",
  "npconvert_exporter": "python",
  "pygments_lexer": "ipython3",
  "version": 3,
  "kernelspec": {
   "name": "python36564bitandreasvirtualenv70822917b8434d7e879ebfa7b2953705",
   "display_name": "Python 3.6.5 64-bit ('Andreas': virtualenv)"
  }
 },
 "cells": [
  {
   "cell_type": "code",
   "execution_count": 1,
   "metadata": {},
   "outputs": [],
   "source": [
    "import loadData\n",
    "import os"
   ]
  },
  {
   "cell_type": "markdown",
   "metadata": {},
   "source": [
    "# File to gennerate json files manually to set up your experient.\n",
    "\n",
    "*responsble Andreas Madsen*"
   ]
  },
  {
   "cell_type": "code",
   "execution_count": 2,
   "metadata": {},
   "outputs": [],
   "source": [
    "#if adding your own path please just outcomment everyone elses\n",
    "datadir=r\"C:\\\\Users\\\\Andreas\\Desktop\\\\KID\\\\Fagproject\\\\Data\\\\BC\\\\data_farrahtue_EEG\\\\\"\n",
    "wrdir=os.getcwd()"
   ]
  },
  {
   "cell_type": "code",
   "execution_count": 3,
   "metadata": {},
   "outputs": [],
   "source": [
    "loader=loadData.json_maker()"
   ]
  },
  {
   "cell_type": "markdown",
   "metadata": {},
   "source": [
    "Find edf's"
   ]
  },
  {
   "cell_type": "code",
   "execution_count": 4,
   "metadata": {},
   "outputs": [],
   "source": [
    "loader.find_edf(datadir)"
   ]
  },
  {
   "cell_type": "markdown",
   "metadata": {},
   "source": [
    "Add annotations: \n",
    "\n",
    "        \"\"\"\n",
    "        Args: path_xlsx_file:\n",
    "        file_name_xlsx: deflualt 'MGH_File_Annotations.xlsx'\n",
    "        sheet_names: list of the sheets to loop over\n",
    "        sort bool: if true files with missing attributes will be deathFlagged deflualt=false \n",
    "        atributes: atribute that you wish to use\n",
    "        #Note if time atributes is added expect bug in make json\n",
    "        \"\"\"\n",
    "posible atributes: \n",
    "\n",
    "        \"\"\"\n",
    "        \"Reader\"\n",
    "        \"Patient #\"\n",
    "        \"Recording\"\n",
    "        \"Recording Length [seconds]\"\n",
    "        \"Recording Length (formatted)\"\n",
    "        \"Task\"\n",
    "        \"Created\"\n",
    "        \"Last Updated\"\n",
    "        \"Status\"\n",
    "        \"Epileptiform Discharges Present\"\n",
    "        \"Recommend Neuroimaging\"\n",
    "        \"Normal Eeg Pattern\"\n",
    "        \"All Leads Working Throughout Recording\"\n",
    "        \"Quality Of Eeg\"\n",
    "        \"Is Eeg Usable For Clinical Purposes\"\n",
    "        \"\"\"\n",
    "        #Note if sort=True program will only remove missing atributes not atributes anotatet wrongly"
   ]
  },
  {
   "cell_type": "code",
   "execution_count": 5,
   "metadata": {},
   "outputs": [],
   "source": [
    "\n",
    "loader.add_annotations(datadir,sheet_names=[2,3,4],atributes=[\"Quality Of Eeg\",\"Is Eeg Usable For Clinical Purposes\"],sort=True)\n",
    ""
   ]
  },
  {
   "cell_type": "code",
   "execution_count": 10,
   "metadata": {},
   "outputs": [],
   "source": [
    "\n",
    "loader.jsonSave(jsonName=\"edfFiles.json\")\n",
    ""
   ]
  },
  {
   "cell_type": "code",
   "execution_count": null,
   "metadata": {},
   "outputs": [],
   "source": [
    "loader.debugLog(saveDir=\"Debuglogs\")"
   ]
  }
 ]
}